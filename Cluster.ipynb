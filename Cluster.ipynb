{
 "cells": [
  {
   "cell_type": "markdown",
   "metadata": {},
   "source": [
    "# Using clustering not classification on breast-cancer dataset"
   ]
  },
  {
   "cell_type": "markdown",
   "metadata": {},
   "source": [
    "**2017301470026 王淳**"
   ]
  },
  {
   "cell_type": "code",
   "execution_count": 1,
   "metadata": {},
   "outputs": [
    {
     "name": "stderr",
     "output_type": "stream",
     "text": [
      "/Users/hubble/opt/anaconda3/lib/python3.7/site-packages/rpy2/robjects/pandas2ri.py:17: FutureWarning: pandas.core.index is deprecated and will be removed in a future version.  The public classes are available in the top-level namespace.\n",
      "  from pandas.core.index import Index as PandasIndex\n",
      "/Users/hubble/opt/anaconda3/lib/python3.7/site-packages/rpy2/rinterface/__init__.py:146: RRuntimeWarning: Loading required package: NbClust\n",
      "\n",
      "  warnings.warn(x, RRuntimeWarning)\n"
     ]
    },
    {
     "data": {
      "text/plain": [
       "array([1], dtype=int32)"
      ]
     },
     "execution_count": 1,
     "metadata": {},
     "output_type": "execute_result"
    }
   ],
   "source": [
    "import numpy as np\n",
    "import pandas as pd\n",
    "np.random.seed(42)\n",
    "%load_ext rpy2.ipython\n",
    "%R require(NbClust)"
   ]
  },
  {
   "cell_type": "code",
   "execution_count": 2,
   "metadata": {},
   "outputs": [],
   "source": [
    "from sklearn.cluster import KMeans, SpectralClustering, AgglomerativeClustering\n",
    "from sklearn.preprocessing import StandardScaler, MinMaxScaler\n",
    "from sklearn.neighbors import kneighbors_graph\n",
    "from sklearn.metrics.cluster import normalized_mutual_info_score"
   ]
  },
  {
   "cell_type": "code",
   "execution_count": 3,
   "metadata": {},
   "outputs": [],
   "source": [
    "def model_selection(model, data, labels_ture):\n",
    "    labels_pred = model.fit_predict(data)\n",
    "    nmi = f'{normalized_mutual_info_score(labels_ture, labels_pred):.4f}'\n",
    "    return labels_pred, nmi"
   ]
  },
  {
   "cell_type": "markdown",
   "metadata": {},
   "source": [
    "# 导入数据集"
   ]
  },
  {
   "cell_type": "code",
   "execution_count": 4,
   "metadata": {},
   "outputs": [],
   "source": [
    "df = pd.read_csv('breast.csv', sep=' ', header=None)\n",
    "df.columns = ['x1', 'x2', 'x3', 'x4', 'x5', 'x6', 'x7', 'x8', 'x9', 'label']"
   ]
  },
  {
   "cell_type": "code",
   "execution_count": 5,
   "metadata": {},
   "outputs": [
    {
     "data": {
      "text/plain": [
       "2.0    458\n",
       "4.0    241\n",
       "Name: label, dtype: int64"
      ]
     },
     "execution_count": 5,
     "metadata": {},
     "output_type": "execute_result"
    }
   ],
   "source": [
    "df.label.value_counts()"
   ]
  },
  {
   "cell_type": "markdown",
   "metadata": {},
   "source": [
    "Insights:\n",
    "- 真实数据一共有两种类别，其中良性编码为2，恶性编码为4"
   ]
  },
  {
   "cell_type": "markdown",
   "metadata": {},
   "source": [
    "# 分离数据和真实标签"
   ]
  },
  {
   "cell_type": "code",
   "execution_count": 6,
   "metadata": {},
   "outputs": [
    {
     "data": {
      "text/html": [
       "<div>\n",
       "<style scoped>\n",
       "    .dataframe tbody tr th:only-of-type {\n",
       "        vertical-align: middle;\n",
       "    }\n",
       "\n",
       "    .dataframe tbody tr th {\n",
       "        vertical-align: top;\n",
       "    }\n",
       "\n",
       "    .dataframe thead th {\n",
       "        text-align: right;\n",
       "    }\n",
       "</style>\n",
       "<table border=\"1\" class=\"dataframe\">\n",
       "  <thead>\n",
       "    <tr style=\"text-align: right;\">\n",
       "      <th></th>\n",
       "      <th>x1</th>\n",
       "      <th>x2</th>\n",
       "      <th>x3</th>\n",
       "      <th>x4</th>\n",
       "      <th>x5</th>\n",
       "      <th>x6</th>\n",
       "      <th>x7</th>\n",
       "      <th>x8</th>\n",
       "      <th>x9</th>\n",
       "    </tr>\n",
       "  </thead>\n",
       "  <tbody>\n",
       "    <tr>\n",
       "      <th>0</th>\n",
       "      <td>5.0</td>\n",
       "      <td>1.0</td>\n",
       "      <td>1.0</td>\n",
       "      <td>1.0</td>\n",
       "      <td>2.0</td>\n",
       "      <td>1.0</td>\n",
       "      <td>3.0</td>\n",
       "      <td>1.0</td>\n",
       "      <td>1.0</td>\n",
       "    </tr>\n",
       "    <tr>\n",
       "      <th>1</th>\n",
       "      <td>5.0</td>\n",
       "      <td>4.0</td>\n",
       "      <td>4.0</td>\n",
       "      <td>5.0</td>\n",
       "      <td>7.0</td>\n",
       "      <td>10.0</td>\n",
       "      <td>3.0</td>\n",
       "      <td>2.0</td>\n",
       "      <td>1.0</td>\n",
       "    </tr>\n",
       "    <tr>\n",
       "      <th>2</th>\n",
       "      <td>3.0</td>\n",
       "      <td>1.0</td>\n",
       "      <td>1.0</td>\n",
       "      <td>1.0</td>\n",
       "      <td>2.0</td>\n",
       "      <td>2.0</td>\n",
       "      <td>3.0</td>\n",
       "      <td>1.0</td>\n",
       "      <td>1.0</td>\n",
       "    </tr>\n",
       "    <tr>\n",
       "      <th>3</th>\n",
       "      <td>6.0</td>\n",
       "      <td>8.0</td>\n",
       "      <td>8.0</td>\n",
       "      <td>1.0</td>\n",
       "      <td>3.0</td>\n",
       "      <td>4.0</td>\n",
       "      <td>3.0</td>\n",
       "      <td>7.0</td>\n",
       "      <td>1.0</td>\n",
       "    </tr>\n",
       "    <tr>\n",
       "      <th>4</th>\n",
       "      <td>4.0</td>\n",
       "      <td>1.0</td>\n",
       "      <td>1.0</td>\n",
       "      <td>3.0</td>\n",
       "      <td>2.0</td>\n",
       "      <td>1.0</td>\n",
       "      <td>3.0</td>\n",
       "      <td>1.0</td>\n",
       "      <td>1.0</td>\n",
       "    </tr>\n",
       "    <tr>\n",
       "      <th>5</th>\n",
       "      <td>8.0</td>\n",
       "      <td>10.0</td>\n",
       "      <td>10.0</td>\n",
       "      <td>8.0</td>\n",
       "      <td>7.0</td>\n",
       "      <td>10.0</td>\n",
       "      <td>9.0</td>\n",
       "      <td>7.0</td>\n",
       "      <td>1.0</td>\n",
       "    </tr>\n",
       "    <tr>\n",
       "      <th>6</th>\n",
       "      <td>1.0</td>\n",
       "      <td>1.0</td>\n",
       "      <td>1.0</td>\n",
       "      <td>1.0</td>\n",
       "      <td>2.0</td>\n",
       "      <td>10.0</td>\n",
       "      <td>3.0</td>\n",
       "      <td>1.0</td>\n",
       "      <td>1.0</td>\n",
       "    </tr>\n",
       "    <tr>\n",
       "      <th>7</th>\n",
       "      <td>2.0</td>\n",
       "      <td>1.0</td>\n",
       "      <td>2.0</td>\n",
       "      <td>1.0</td>\n",
       "      <td>2.0</td>\n",
       "      <td>1.0</td>\n",
       "      <td>3.0</td>\n",
       "      <td>1.0</td>\n",
       "      <td>1.0</td>\n",
       "    </tr>\n",
       "    <tr>\n",
       "      <th>8</th>\n",
       "      <td>2.0</td>\n",
       "      <td>1.0</td>\n",
       "      <td>1.0</td>\n",
       "      <td>1.0</td>\n",
       "      <td>2.0</td>\n",
       "      <td>1.0</td>\n",
       "      <td>1.0</td>\n",
       "      <td>1.0</td>\n",
       "      <td>5.0</td>\n",
       "    </tr>\n",
       "    <tr>\n",
       "      <th>9</th>\n",
       "      <td>4.0</td>\n",
       "      <td>2.0</td>\n",
       "      <td>1.0</td>\n",
       "      <td>1.0</td>\n",
       "      <td>2.0</td>\n",
       "      <td>1.0</td>\n",
       "      <td>2.0</td>\n",
       "      <td>1.0</td>\n",
       "      <td>1.0</td>\n",
       "    </tr>\n",
       "  </tbody>\n",
       "</table>\n",
       "</div>"
      ],
      "text/plain": [
       "    x1    x2    x3   x4   x5    x6   x7   x8   x9\n",
       "0  5.0   1.0   1.0  1.0  2.0   1.0  3.0  1.0  1.0\n",
       "1  5.0   4.0   4.0  5.0  7.0  10.0  3.0  2.0  1.0\n",
       "2  3.0   1.0   1.0  1.0  2.0   2.0  3.0  1.0  1.0\n",
       "3  6.0   8.0   8.0  1.0  3.0   4.0  3.0  7.0  1.0\n",
       "4  4.0   1.0   1.0  3.0  2.0   1.0  3.0  1.0  1.0\n",
       "5  8.0  10.0  10.0  8.0  7.0  10.0  9.0  7.0  1.0\n",
       "6  1.0   1.0   1.0  1.0  2.0  10.0  3.0  1.0  1.0\n",
       "7  2.0   1.0   2.0  1.0  2.0   1.0  3.0  1.0  1.0\n",
       "8  2.0   1.0   1.0  1.0  2.0   1.0  1.0  1.0  5.0\n",
       "9  4.0   2.0   1.0  1.0  2.0   1.0  2.0  1.0  1.0"
      ]
     },
     "execution_count": 6,
     "metadata": {},
     "output_type": "execute_result"
    }
   ],
   "source": [
    "labels_true = np.array(df.label)\n",
    "data = df.iloc[:, :-1]\n",
    "data.head(10)"
   ]
  },
  {
   "cell_type": "markdown",
   "metadata": {},
   "source": [
    "# 数据预处理"
   ]
  },
  {
   "cell_type": "code",
   "execution_count": 7,
   "metadata": {},
   "outputs": [],
   "source": [
    "data = MinMaxScaler().fit_transform(data)"
   ]
  },
  {
   "cell_type": "markdown",
   "metadata": {},
   "source": [
    "# 平均距离层次聚类"
   ]
  },
  {
   "cell_type": "markdown",
   "metadata": {},
   "source": [
    "## 聚成两类"
   ]
  },
  {
   "cell_type": "code",
   "execution_count": 8,
   "metadata": {},
   "outputs": [],
   "source": [
    "%%R\n",
    "data <- read.table('breast.csv', header = F)\n",
    "data <- data[1:9]\n",
    "data.scaled <- scale(data)  # 数据标准化\n",
    "d <- dist(data.scaled)      # 计算欧氏距离\n",
    "fit.average <- hclust(d, method = 'average')\n",
    "set.seed(42)\n",
    "clusters <- cutree(fit.average, k=2)\n",
    "\n",
    "class_1 <- which(clusters == 1)\n",
    "class_2 <- which(clusters != 1)"
   ]
  },
  {
   "cell_type": "code",
   "execution_count": 9,
   "metadata": {},
   "outputs": [
    {
     "name": "stdout",
     "output_type": "stream",
     "text": [
      "==========平均距离层次聚类聚成两类的评估==========\n",
      "\n",
      "NMI指标：0.1392\n",
      "准确率： 70.82%\n",
      "错误数目：204\n"
     ]
    }
   ],
   "source": [
    "%R -o class_1,class_2\n",
    "\n",
    "class_1 = np.asarray(class_1)\n",
    "class_2 = np.asarray(class_2)\n",
    "\n",
    "labels_pred = np.zeros_like(labels_true)\n",
    "labels_pred[class_1 - 1] = 2\n",
    "labels_pred[class_2 - 1] = 4\n",
    "\n",
    "print('==========平均距离层次聚类聚成两类的评估==========\\n')\n",
    "print(f'NMI指标：{normalized_mutual_info_score(labels_true, labels_pred):.4f}')\n",
    "print(f'准确率： {np.mean(labels_true == labels_pred)*100:.2f}%')\n",
    "print(f'错误数目：{sum(labels_true != labels_pred)}')"
   ]
  },
  {
   "cell_type": "markdown",
   "metadata": {},
   "source": [
    "## 聚类数寻优"
   ]
  },
  {
   "cell_type": "code",
   "execution_count": 10,
   "metadata": {},
   "outputs": [
    {
     "data": {
      "text/plain": [
       "*** : The Hubert index is a graphical method of determining the number of clusters.\n",
       "                In the plot of Hubert index, we seek a significant knee that corresponds to a \n",
       "                significant increase of the value of the measure i.e the significant peak in Hubert\n",
       "                index second differences plot. \n",
       " \n",
       "*** : The D index is a graphical method of determining the number of clusters. \n",
       "                In the plot of D index, we seek a significant knee (the significant peak in Dindex\n",
       "                second differences plot) that corresponds to a significant increase of the value of\n",
       "                the measure. \n",
       " \n",
       "******************************************************************* \n",
       "* Among all indices:                                                \n",
       "* 3 proposed 2 as the best number of clusters \n",
       "* 15 proposed 3 as the best number of clusters \n",
       "* 1 proposed 4 as the best number of clusters \n",
       "* 4 proposed 5 as the best number of clusters \n",
       "\n",
       "                   ***** Conclusion *****                            \n",
       " \n",
       "* According to the majority rule, the best number of clusters is  3 \n",
       " \n",
       " \n",
       "******************************************************************* \n"
      ]
     },
     "metadata": {},
     "output_type": "display_data"
    },
    {
     "data": {
      "image/png": "[encoded data removed]"
     },
     "metadata": {},
     "output_type": "display_data"
    },
    {
     "data": {
      "image/png": "[encoded data removed]"
     },
     "metadata": {},
     "output_type": "display_data"
    }
   ],
   "source": [
    "%%R\n",
    "nc <- NbClust(data.scaled, distance=\"euclidean\", \n",
    "              min.nc=2, max.nc=5, method=\"average\")"
   ]
  },
  {
   "cell_type": "code",
   "execution_count": 11,
   "metadata": {},
   "outputs": [
    {
     "data": {
      "text/plain": [
       "\n",
       " 0  1  2  3  4  5 \n",
       " 2  1  3 15  1  4 \n"
      ]
     },
     "metadata": {},
     "output_type": "display_data"
    },
    {
     "data": {
      "image/png": "[encoded data removed]"
     },
     "metadata": {},
     "output_type": "display_data"
    }
   ],
   "source": [
    "%%R\n",
    "barplot(table(nc$Best.n[1,]), \n",
    "        xlab=\"Numer of Clusters\", ylab=\"Number of Criteria\",\n",
    "        main=\"Number of Clusters Chosen by 26 Criteria\") \n",
    "table(nc$Best.n[1,])"
   ]
  },
  {
   "cell_type": "markdown",
   "metadata": {},
   "source": [
    "Insights:\n",
    "- 26个聚类评估准则中有15个推荐将样本聚成3类"
   ]
  },
  {
   "cell_type": "markdown",
   "metadata": {},
   "source": [
    "## 根据最佳聚类数划分"
   ]
  },
  {
   "cell_type": "code",
   "execution_count": 12,
   "metadata": {},
   "outputs": [
    {
     "data": {
      "text/plain": [
       "[1] \"每个类中的样本数目\"\n",
       "clusters\n",
       "  1   2   3 \n",
       "455 207  37 \n"
      ]
     },
     "metadata": {},
     "output_type": "display_data"
    }
   ],
   "source": [
    "%%R\n",
    "clusters <- cutree(fit.average, k=3)\n",
    "print('每个类中的样本数目')\n",
    "table(clusters)"
   ]
  },
  {
   "cell_type": "code",
   "execution_count": 13,
   "metadata": {},
   "outputs": [
    {
     "data": {
      "text/plain": [
       "[1] \"每个类中的变量中位数\"\n",
       "  cluster V1 V2 V3 V4 V5 V6 V7 V8 V9\n",
       "1       1  3  1  1  1  2  1  2  1  1\n",
       "2       2  8  6  6  5  5 10  6  6  1\n",
       "3       3  8 10 10  8  7 10  7  8  8\n"
      ]
     },
     "metadata": {},
     "output_type": "display_data"
    }
   ],
   "source": [
    "%%R\n",
    "print('每个类中的变量中位数')\n",
    "aggregate(data, by=list(cluster=clusters), median)"
   ]
  },
  {
   "cell_type": "markdown",
   "metadata": {},
   "source": [
    "Insight:\n",
    "- 三个类别存在明显区别，根据数据集描述，可确定第一类为良性，第三类为恶性，而第二类为中间过渡阶段\n",
    "- 考虑到第三类样本过少，考虑将第二类和第三类合并，将过渡阶段合并到恶性与日常生活经验是不矛盾的"
   ]
  },
  {
   "cell_type": "markdown",
   "metadata": {},
   "source": [
    "## 适当合并聚类结果"
   ]
  },
  {
   "cell_type": "code",
   "execution_count": 14,
   "metadata": {},
   "outputs": [],
   "source": [
    "%%R\n",
    "class_1 <- which(clusters == 1)\n",
    "class_2 <- which(clusters != 1)"
   ]
  },
  {
   "cell_type": "code",
   "execution_count": 15,
   "metadata": {},
   "outputs": [
    {
     "name": "stdout",
     "output_type": "stream",
     "text": [
      "==========平均距离层次聚类聚成三类再合并成两类的评估==========\n",
      "\n",
      "NMI指标：0.7501\n",
      "准确率： 96.14%\n",
      "错误数目：27\n"
     ]
    }
   ],
   "source": [
    "%R -o class_1,class_2\n",
    "\n",
    "class_1 = np.asarray(class_1)\n",
    "class_2 = np.asarray(class_2)\n",
    "\n",
    "labels_pred = np.zeros_like(labels_true)\n",
    "labels_pred[class_1 - 1] = 2\n",
    "labels_pred[class_2 - 1] = 4\n",
    "\n",
    "print('==========平均距离层次聚类聚成三类再合并成两类的评估==========\\n')\n",
    "print(f'NMI指标：{normalized_mutual_info_score(labels_true, labels_pred):.4f}')\n",
    "print(f'准确率： {np.mean(labels_true == labels_pred)*100:.2f}%')\n",
    "print(f'错误数目：{sum(labels_true != labels_pred)}')"
   ]
  },
  {
   "cell_type": "markdown",
   "metadata": {},
   "source": [
    "# k-means"
   ]
  },
  {
   "cell_type": "markdown",
   "metadata": {},
   "source": [
    "## 聚成两类"
   ]
  },
  {
   "cell_type": "code",
   "execution_count": 16,
   "metadata": {},
   "outputs": [
    {
     "name": "stdout",
     "output_type": "stream",
     "text": [
      "==========k-means聚成两类的评估==========\n",
      "\n",
      "NMI指标：0.7361\n",
      "准确率： 95.85%\n",
      "错误数目：29\n"
     ]
    }
   ],
   "source": [
    "model = KMeans(n_clusters=2, random_state=42)\n",
    "labels_pred = model.fit_predict(data)\n",
    "\n",
    "for i in range(len(labels_pred)):\n",
    "    if labels_pred[i] == 0:\n",
    "        labels_pred[i] = 2\n",
    "    else:\n",
    "        labels_pred[i] = 4\n",
    "        \n",
    "nmi = normalized_mutual_info_score(labels_true, labels_pred)\n",
    "print('==========k-means聚成两类的评估==========\\n')\n",
    "print(f'NMI指标：{nmi:.4f}')\n",
    "print(f'准确率： {np.mean(labels_true == labels_pred)*100:.2f}%')\n",
    "print(f'错误数目：{sum(labels_true != labels_pred)}')"
   ]
  },
  {
   "cell_type": "markdown",
   "metadata": {},
   "source": [
    "## 聚成三类再合并成两类"
   ]
  },
  {
   "cell_type": "code",
   "execution_count": 17,
   "metadata": {},
   "outputs": [
    {
     "name": "stdout",
     "output_type": "stream",
     "text": [
      "==========k-means聚成三类再合并成两类的评估==========\n",
      "\n",
      "NMI指标：0.7789\n",
      "准确率： 96.71%\n",
      "错误数目：23\n"
     ]
    }
   ],
   "source": [
    "model = KMeans(n_clusters=3, random_state=42)\n",
    "labels_pred = model.fit_predict(data)\n",
    "\n",
    "for i in range(len(labels_pred)):\n",
    "    if labels_pred[i] == 0:\n",
    "        labels_pred[i] = 2\n",
    "    else:\n",
    "        labels_pred[i] = 4\n",
    "        \n",
    "nmi = normalized_mutual_info_score(labels_true, labels_pred)\n",
    "print('==========k-means聚成三类再合并成两类的评估==========\\n')\n",
    "print(f'NMI指标：{nmi:.4f}')\n",
    "print(f'准确率： {np.mean(labels_true == labels_pred)*100:.2f}%')\n",
    "print(f'错误数目：{sum(labels_true != labels_pred)}')"
   ]
  },
  {
   "cell_type": "markdown",
   "metadata": {},
   "source": [
    "# 谱聚类"
   ]
  },
  {
   "cell_type": "markdown",
   "metadata": {},
   "source": [
    "## 聚成两类"
   ]
  },
  {
   "cell_type": "code",
   "execution_count": 18,
   "metadata": {},
   "outputs": [
    {
     "name": "stdout",
     "output_type": "stream",
     "text": [
      "==========谱聚类聚成两类的评估==========\n",
      "\n",
      "NMI指标：0.8203\n",
      "准确率： 97.28%\n",
      "错误数目：19\n"
     ]
    }
   ],
   "source": [
    "model = SpectralClustering(n_clusters=2,\n",
    "                           affinity='nearest_neighbors',\n",
    "                           n_neighbors=10,\n",
    "                           assign_labels='kmeans',\n",
    "                           gamma=2,\n",
    "                           random_state=42)\n",
    "labels_pred = model.fit_predict(data)\n",
    "\n",
    "for i in range(len(labels_pred)):\n",
    "    if labels_pred[i] == 0:\n",
    "        labels_pred[i] = 2\n",
    "    else:\n",
    "        labels_pred[i] = 4\n",
    "        \n",
    "nmi = normalized_mutual_info_score(labels_true, labels_pred)\n",
    "print('==========谱聚类聚成两类的评估==========\\n')\n",
    "print(f'NMI指标：{nmi:.4f}')\n",
    "print(f'准确率： {np.mean(labels_true == labels_pred)*100:.2f}%')\n",
    "print(f'错误数目：{sum(labels_true != labels_pred)}')"
   ]
  },
  {
   "cell_type": "markdown",
   "metadata": {},
   "source": [
    "## 聚成三类再合并成两类"
   ]
  },
  {
   "cell_type": "code",
   "execution_count": 19,
   "metadata": {},
   "outputs": [
    {
     "name": "stdout",
     "output_type": "stream",
     "text": [
      "==========谱聚类聚成三类再合并成两类的评估==========\n",
      "\n",
      "NMI指标：0.2212\n",
      "准确率： 60.80%\n",
      "错误数目：274\n"
     ]
    }
   ],
   "source": [
    "model = SpectralClustering(n_clusters=3,\n",
    "                           affinity='nearest_neighbors',\n",
    "                           n_neighbors=10,\n",
    "                           assign_labels='kmeans',\n",
    "                           random_state=42)\n",
    "labels_pred = model.fit_predict(data)\n",
    "\n",
    "for i in range(len(labels_pred)):\n",
    "    if labels_pred[i] == 0:\n",
    "        labels_pred[i] = 2\n",
    "    else:\n",
    "        labels_pred[i] = 4\n",
    "        \n",
    "nmi = normalized_mutual_info_score(labels_true, labels_pred)\n",
    "print('==========谱聚类聚成三类再合并成两类的评估==========\\n')\n",
    "print(f'NMI指标：{nmi:.4f}')\n",
    "print(f'准确率： {np.mean(labels_true == labels_pred)*100:.2f}%')\n",
    "print(f'错误数目：{sum(labels_true != labels_pred)}')"
   ]
  },
  {
   "cell_type": "markdown",
   "metadata": {},
   "source": [
    "# ward层次聚类"
   ]
  },
  {
   "cell_type": "markdown",
   "metadata": {},
   "source": [
    "## 聚成两类"
   ]
  },
  {
   "cell_type": "code",
   "execution_count": 20,
   "metadata": {},
   "outputs": [],
   "source": [
    "%%R\n",
    "fit.average <- hclust(d, method = 'ward.D')\n",
    "set.seed(42)\n",
    "clusters <- cutree(fit.average, k=2)\n",
    "\n",
    "class_1 <- which(clusters == 1)\n",
    "class_2 <- which(clusters != 1)"
   ]
  },
  {
   "cell_type": "code",
   "execution_count": 21,
   "metadata": {},
   "outputs": [
    {
     "name": "stdout",
     "output_type": "stream",
     "text": [
      "==========ward层次聚类聚成两类的评估==========\n",
      "\n",
      "NMI指标：0.7308\n",
      "准确率： 95.71%\n",
      "错误数目：30\n"
     ]
    }
   ],
   "source": [
    "%R -o class_1,class_2\n",
    "\n",
    "class_1 = np.asarray(class_1)\n",
    "class_2 = np.asarray(class_2)\n",
    "\n",
    "labels_pred = np.zeros_like(labels_true)\n",
    "labels_pred[class_1 - 1] = 2\n",
    "labels_pred[class_2 - 1] = 4\n",
    "\n",
    "print('==========ward层次聚类聚成两类的评估==========\\n')\n",
    "print(f'NMI指标：{normalized_mutual_info_score(labels_true, labels_pred):.4f}')\n",
    "print(f'准确率： {np.mean(labels_true == labels_pred)*100:.2f}%')\n",
    "print(f'错误数目：{sum(labels_true != labels_pred)}')"
   ]
  },
  {
   "cell_type": "markdown",
   "metadata": {},
   "source": [
    "## 聚成三类再合并成两类"
   ]
  },
  {
   "cell_type": "code",
   "execution_count": 22,
   "metadata": {},
   "outputs": [],
   "source": [
    "%%R\n",
    "fit.average <- hclust(d, method = 'ward.D')\n",
    "set.seed(42)\n",
    "clusters <- cutree(fit.average, k=3)\n",
    "\n",
    "class_1 <- which(clusters == 1)\n",
    "class_2 <- which(clusters != 1)"
   ]
  },
  {
   "cell_type": "code",
   "execution_count": 23,
   "metadata": {},
   "outputs": [
    {
     "name": "stdout",
     "output_type": "stream",
     "text": [
      "==========ward层次聚类聚成三类再合并成两类的评估==========\n",
      "\n",
      "NMI指标：0.7308\n",
      "准确率： 95.71%\n",
      "错误数目：30\n"
     ]
    }
   ],
   "source": [
    "%R -o class_1,class_2\n",
    "\n",
    "class_1 = np.asarray(class_1)\n",
    "class_2 = np.asarray(class_2)\n",
    "\n",
    "labels_pred = np.zeros_like(labels_true)\n",
    "labels_pred[class_1 - 1] = 2\n",
    "labels_pred[class_2 - 1] = 4\n",
    "\n",
    "print('==========ward层次聚类聚成三类再合并成两类的评估==========\\n')\n",
    "print(f'NMI指标：{normalized_mutual_info_score(labels_true, labels_pred):.4f}')\n",
    "print(f'准确率： {np.mean(labels_true == labels_pred)*100:.2f}%')\n",
    "print(f'错误数目：{sum(labels_true != labels_pred)}')"
   ]
  },
  {
   "cell_type": "markdown",
   "metadata": {},
   "source": [
    "# 汇总试验结果"
   ]
  },
  {
   "cell_type": "markdown",
   "metadata": {},
   "source": [
    "本文在breast-cancer数据集上，采用两种模式进行对比实验：\n",
    "\n",
    "1. 直接聚成两类\n",
    "2. 先聚成三类再合并为两类。\n",
    "\n",
    "对两种模式各自挑选四个性能较好的模型分别进行实验，将所有的聚类结果进行对比分析，可以发现："
   ]
  },
  {
   "cell_type": "markdown",
   "metadata": {},
   "source": [
    "|    | Aver-2 | Aver-3 | K-means-2 | K-means-3 | 谱聚类-2 | 谱聚类-3 | Ward-2 | Ward-3 |\n",
    "| :----: | :----: | :----: | :----: | :----: | :----: | :----: | :----: | :----: |\n",
    "|     NMI     | 0.1392 | 0.7501 | 0.7361 | 0.7789 | 0.8203 | 0.2200 | 0.7308 | 0.7308 |\n",
    "|  Accuracy   | 70.82% | 96.14% | 95.85% | 96.71% | 97.28% | 60.66% | 95.71% | 95.71% |\n",
    "| Wrong Count | 204 | 27 | 29 | 23 | 19 | 275 | 30 | 30 |"
   ]
  },
  {
   "cell_type": "markdown",
   "metadata": {},
   "source": [
    "Insights:\n",
    "- 对于平均联动聚类、K-means聚类，第二种模式对聚类效果有较好的提升\n",
    "- 谱聚类直接聚为两类就有很好地性能，第二种模式的性能反而大幅降低\n",
    "- ward聚类则比较稳健，在两种模式下性能表现均很好"
   ]
  },
  {
   "cell_type": "markdown",
   "metadata": {},
   "source": [
    "# 进一步尝试"
   ]
  },
  {
   "cell_type": "markdown",
   "metadata": {},
   "source": [
    "## 构建投票器"
   ]
  },
  {
   "cell_type": "markdown",
   "metadata": {},
   "source": [
    "avr3"
   ]
  },
  {
   "cell_type": "code",
   "execution_count": 24,
   "metadata": {},
   "outputs": [],
   "source": [
    "%%R\n",
    "data <- read.table('breast.csv', header = F)\n",
    "data <- data[1:9]\n",
    "data.scaled <- scale(data)  # 数据标准化\n",
    "d <- dist(data.scaled)      # 计算欧氏距离\n",
    "fit.average <- hclust(d, method = 'average')\n",
    "set.seed(42)\n",
    "clusters <- cutree(fit.average, k=3)\n",
    "\n",
    "class_1 <- which(clusters == 1)\n",
    "class_2 <- which(clusters != 1)"
   ]
  },
  {
   "cell_type": "code",
   "execution_count": 25,
   "metadata": {},
   "outputs": [],
   "source": [
    "%R -o class_1,class_2\n",
    "\n",
    "class_1 = np.asarray(class_1)\n",
    "class_2 = np.asarray(class_2)\n",
    "\n",
    "pred_avr3 = np.zeros_like(labels_true)\n",
    "pred_avr3[class_1 - 1] = 1\n",
    "pred_avr3[class_2 - 1] = 2\n",
    "\n",
    "nmi_avr3 = normalized_mutual_info_score(labels_true, pred_avr3)"
   ]
  },
  {
   "cell_type": "markdown",
   "metadata": {},
   "source": [
    "ward2"
   ]
  },
  {
   "cell_type": "code",
   "execution_count": 26,
   "metadata": {},
   "outputs": [],
   "source": [
    "%%R\n",
    "fit.average <- hclust(d, method = 'ward.D')\n",
    "set.seed(42)\n",
    "clusters <- cutree(fit.average, k=2)\n",
    "\n",
    "class_1 <- which(clusters == 1)\n",
    "class_2 <- which(clusters != 1)"
   ]
  },
  {
   "cell_type": "code",
   "execution_count": 27,
   "metadata": {},
   "outputs": [],
   "source": [
    "%R -o class_1,class_2\n",
    "\n",
    "class_1 = np.asarray(class_1)\n",
    "class_2 = np.asarray(class_2)\n",
    "\n",
    "pred_ward2 = np.zeros_like(labels_true)\n",
    "pred_ward2[class_1 - 1] = 1\n",
    "pred_ward2[class_2 - 1] = 2\n",
    "\n",
    "nmi_ward2 = normalized_mutual_info_score(labels_true, pred_ward2)"
   ]
  },
  {
   "cell_type": "markdown",
   "metadata": {},
   "source": [
    "k-means-3"
   ]
  },
  {
   "cell_type": "code",
   "execution_count": 28,
   "metadata": {},
   "outputs": [],
   "source": [
    "model = KMeans(n_clusters=3, random_state=42)\n",
    "pred_kmeans3 = model.fit_predict(data)\n",
    "\n",
    "for i in range(len(pred_kmeans3)):\n",
    "    if pred_kmeans3[i] == 0:\n",
    "        pred_kmeans3[i] = 1\n",
    "    else:\n",
    "        pred_kmeans3[i] = 2\n",
    "        \n",
    "nmi_kmeans3 = normalized_mutual_info_score(labels_true, pred_kmeans3)"
   ]
  },
  {
   "cell_type": "markdown",
   "metadata": {},
   "source": [
    "Spectral2"
   ]
  },
  {
   "cell_type": "code",
   "execution_count": 29,
   "metadata": {},
   "outputs": [],
   "source": [
    "model = SpectralClustering(n_clusters=2,\n",
    "                           affinity='nearest_neighbors',\n",
    "                           n_neighbors=10,\n",
    "                           assign_labels='kmeans',\n",
    "                           random_state=42)\n",
    "pred_spect2 = model.fit_predict(data)\n",
    "\n",
    "for i in range(len(pred_spect2)):\n",
    "    if pred_spect2[i] == 0:\n",
    "        pred_spect2[i] = 1\n",
    "    else:\n",
    "        pred_spect2[i] = 2\n",
    "        \n",
    "nmi_spect2 = normalized_mutual_info_score(labels_true, pred_spect2)"
   ]
  },
  {
   "cell_type": "code",
   "execution_count": 30,
   "metadata": {},
   "outputs": [],
   "source": [
    "total_nmi = np.sum([nmi_kmeans3, nmi_spect2])#, nmi_avr3, nmi_ward2])\n",
    "total_pred = pred_kmeans3*nmi_kmeans3 + pred_spect2*nmi_spect2# + pred_avr3*nmi_avr3 + pred_ward2*nmi_ward2\n",
    "pred = total_pred / total_nmi"
   ]
  },
  {
   "cell_type": "code",
   "execution_count": 31,
   "metadata": {
    "scrolled": false
   },
   "outputs": [
    {
     "data": {
      "text/plain": [
       "0.8202939814290227"
      ]
     },
     "execution_count": 31,
     "metadata": {},
     "output_type": "execute_result"
    }
   ],
   "source": [
    "labels_pred = np.around(pred, decimals=0)\n",
    "normalized_mutual_info_score(labels_true, labels_pred)"
   ]
  },
  {
   "cell_type": "markdown",
   "metadata": {},
   "source": [
    "## stacking"
   ]
  },
  {
   "cell_type": "code",
   "execution_count": 32,
   "metadata": {},
   "outputs": [],
   "source": [
    "stack_data = pd.DataFrame(\n",
    "    {\n",
    "        'avr3': pred_avr3,\n",
    "        'ward2': pred_ward2,\n",
    "        'kmeans3': pred_kmeans3,\n",
    "        'spect2': pred_spect2,\n",
    "    },\n",
    "    index=range(699),\n",
    "    dtype=int)\n",
    "\n",
    "result = []\n",
    "for i in range(699):\n",
    "    if sum(stack_data.iloc[i, :]) == 4:\n",
    "        result.append(1)\n",
    "    elif sum(stack_data.iloc[i, :]) == 8:\n",
    "        result.append(2)\n",
    "    else:\n",
    "        result.append(stack_data.loc[i, 'spect2'])\n",
    "stack_data['stack_result'] = result"
   ]
  },
  {
   "cell_type": "code",
   "execution_count": 33,
   "metadata": {},
   "outputs": [
    {
     "data": {
      "text/plain": [
       "0.8202939814290227"
      ]
     },
     "execution_count": 33,
     "metadata": {},
     "output_type": "execute_result"
    }
   ],
   "source": [
    "normalized_mutual_info_score(labels_true, np.array(stack_data.stack_result))"
   ]
  },
  {
   "cell_type": "markdown",
   "metadata": {},
   "source": [
    "# 查看聚类错误的实例"
   ]
  },
  {
   "cell_type": "code",
   "execution_count": 34,
   "metadata": {
    "scrolled": false
   },
   "outputs": [
    {
     "data": {
      "text/html": [
       "<div>\n",
       "<style scoped>\n",
       "    .dataframe tbody tr th:only-of-type {\n",
       "        vertical-align: middle;\n",
       "    }\n",
       "\n",
       "    .dataframe tbody tr th {\n",
       "        vertical-align: top;\n",
       "    }\n",
       "\n",
       "    .dataframe thead th {\n",
       "        text-align: right;\n",
       "    }\n",
       "</style>\n",
       "<table border=\"1\" class=\"dataframe\">\n",
       "  <thead>\n",
       "    <tr style=\"text-align: right;\">\n",
       "      <th></th>\n",
       "      <th>avr3</th>\n",
       "      <th>ward2</th>\n",
       "      <th>kmeans3</th>\n",
       "      <th>spect2</th>\n",
       "      <th>stack_result</th>\n",
       "      <th>labels_true</th>\n",
       "    </tr>\n",
       "  </thead>\n",
       "  <tbody>\n",
       "    <tr>\n",
       "      <th>1</th>\n",
       "      <td>4</td>\n",
       "      <td>4</td>\n",
       "      <td>4</td>\n",
       "      <td>4</td>\n",
       "      <td>4</td>\n",
       "      <td>2.0</td>\n",
       "    </tr>\n",
       "    <tr>\n",
       "      <th>3</th>\n",
       "      <td>4</td>\n",
       "      <td>4</td>\n",
       "      <td>4</td>\n",
       "      <td>4</td>\n",
       "      <td>4</td>\n",
       "      <td>2.0</td>\n",
       "    </tr>\n",
       "    <tr>\n",
       "      <th>40</th>\n",
       "      <td>4</td>\n",
       "      <td>4</td>\n",
       "      <td>4</td>\n",
       "      <td>4</td>\n",
       "      <td>4</td>\n",
       "      <td>2.0</td>\n",
       "    </tr>\n",
       "    <tr>\n",
       "      <th>148</th>\n",
       "      <td>4</td>\n",
       "      <td>4</td>\n",
       "      <td>2</td>\n",
       "      <td>4</td>\n",
       "      <td>4</td>\n",
       "      <td>2.0</td>\n",
       "    </tr>\n",
       "    <tr>\n",
       "      <th>196</th>\n",
       "      <td>4</td>\n",
       "      <td>4</td>\n",
       "      <td>4</td>\n",
       "      <td>4</td>\n",
       "      <td>4</td>\n",
       "      <td>2.0</td>\n",
       "    </tr>\n",
       "    <tr>\n",
       "      <th>222</th>\n",
       "      <td>2</td>\n",
       "      <td>2</td>\n",
       "      <td>2</td>\n",
       "      <td>2</td>\n",
       "      <td>2</td>\n",
       "      <td>4.0</td>\n",
       "    </tr>\n",
       "    <tr>\n",
       "      <th>232</th>\n",
       "      <td>4</td>\n",
       "      <td>4</td>\n",
       "      <td>4</td>\n",
       "      <td>4</td>\n",
       "      <td>4</td>\n",
       "      <td>2.0</td>\n",
       "    </tr>\n",
       "    <tr>\n",
       "      <th>252</th>\n",
       "      <td>4</td>\n",
       "      <td>4</td>\n",
       "      <td>4</td>\n",
       "      <td>4</td>\n",
       "      <td>4</td>\n",
       "      <td>2.0</td>\n",
       "    </tr>\n",
       "    <tr>\n",
       "      <th>259</th>\n",
       "      <td>4</td>\n",
       "      <td>4</td>\n",
       "      <td>4</td>\n",
       "      <td>4</td>\n",
       "      <td>4</td>\n",
       "      <td>2.0</td>\n",
       "    </tr>\n",
       "    <tr>\n",
       "      <th>296</th>\n",
       "      <td>2</td>\n",
       "      <td>2</td>\n",
       "      <td>4</td>\n",
       "      <td>4</td>\n",
       "      <td>4</td>\n",
       "      <td>2.0</td>\n",
       "    </tr>\n",
       "    <tr>\n",
       "      <th>315</th>\n",
       "      <td>4</td>\n",
       "      <td>4</td>\n",
       "      <td>4</td>\n",
       "      <td>4</td>\n",
       "      <td>4</td>\n",
       "      <td>2.0</td>\n",
       "    </tr>\n",
       "    <tr>\n",
       "      <th>319</th>\n",
       "      <td>4</td>\n",
       "      <td>4</td>\n",
       "      <td>4</td>\n",
       "      <td>4</td>\n",
       "      <td>4</td>\n",
       "      <td>2.0</td>\n",
       "    </tr>\n",
       "    <tr>\n",
       "      <th>352</th>\n",
       "      <td>4</td>\n",
       "      <td>4</td>\n",
       "      <td>4</td>\n",
       "      <td>4</td>\n",
       "      <td>4</td>\n",
       "      <td>2.0</td>\n",
       "    </tr>\n",
       "    <tr>\n",
       "      <th>356</th>\n",
       "      <td>2</td>\n",
       "      <td>2</td>\n",
       "      <td>2</td>\n",
       "      <td>2</td>\n",
       "      <td>2</td>\n",
       "      <td>4.0</td>\n",
       "    </tr>\n",
       "    <tr>\n",
       "      <th>415</th>\n",
       "      <td>2</td>\n",
       "      <td>2</td>\n",
       "      <td>2</td>\n",
       "      <td>4</td>\n",
       "      <td>4</td>\n",
       "      <td>2.0</td>\n",
       "    </tr>\n",
       "    <tr>\n",
       "      <th>434</th>\n",
       "      <td>4</td>\n",
       "      <td>4</td>\n",
       "      <td>4</td>\n",
       "      <td>4</td>\n",
       "      <td>4</td>\n",
       "      <td>2.0</td>\n",
       "    </tr>\n",
       "    <tr>\n",
       "      <th>489</th>\n",
       "      <td>2</td>\n",
       "      <td>2</td>\n",
       "      <td>2</td>\n",
       "      <td>2</td>\n",
       "      <td>2</td>\n",
       "      <td>4.0</td>\n",
       "    </tr>\n",
       "    <tr>\n",
       "      <th>494</th>\n",
       "      <td>4</td>\n",
       "      <td>4</td>\n",
       "      <td>4</td>\n",
       "      <td>4</td>\n",
       "      <td>4</td>\n",
       "      <td>2.0</td>\n",
       "    </tr>\n",
       "    <tr>\n",
       "      <th>657</th>\n",
       "      <td>4</td>\n",
       "      <td>4</td>\n",
       "      <td>2</td>\n",
       "      <td>4</td>\n",
       "      <td>4</td>\n",
       "      <td>2.0</td>\n",
       "    </tr>\n",
       "  </tbody>\n",
       "</table>\n",
       "</div>"
      ],
      "text/plain": [
       "     avr3  ward2  kmeans3  spect2  stack_result  labels_true\n",
       "1       4      4        4       4             4          2.0\n",
       "3       4      4        4       4             4          2.0\n",
       "40      4      4        4       4             4          2.0\n",
       "148     4      4        2       4             4          2.0\n",
       "196     4      4        4       4             4          2.0\n",
       "222     2      2        2       2             2          4.0\n",
       "232     4      4        4       4             4          2.0\n",
       "252     4      4        4       4             4          2.0\n",
       "259     4      4        4       4             4          2.0\n",
       "296     2      2        4       4             4          2.0\n",
       "315     4      4        4       4             4          2.0\n",
       "319     4      4        4       4             4          2.0\n",
       "352     4      4        4       4             4          2.0\n",
       "356     2      2        2       2             2          4.0\n",
       "415     2      2        2       4             4          2.0\n",
       "434     4      4        4       4             4          2.0\n",
       "489     2      2        2       2             2          4.0\n",
       "494     4      4        4       4             4          2.0\n",
       "657     4      4        2       4             4          2.0"
      ]
     },
     "execution_count": 34,
     "metadata": {},
     "output_type": "execute_result"
    }
   ],
   "source": [
    "stack_data['labels_true'] = labels_true // 2\n",
    "stack_data.iloc[(2*pred_spect2 != labels_true) == True,:] * 2"
   ]
  },
  {
   "cell_type": "code",
   "execution_count": null,
   "metadata": {},
   "outputs": [],
   "source": []
  }
 ],
 "metadata": {
  "kernelspec": {
   "display_name": "Python 3",
   "language": "python",
   "name": "python3"
  },
  "language_info": {
   "codemirror_mode": {
    "name": "ipython",
    "version": 3
   },
   "file_extension": ".py",
   "mimetype": "text/x-python",
   "name": "python",
   "nbconvert_exporter": "python",
   "pygments_lexer": "ipython3",
   "version": "3.7.6"
  },
  "latex_envs": {
   "LaTeX_envs_menu_present": true,
   "autoclose": false,
   "autocomplete": true,
   "bibliofile": "biblio.bib",
   "cite_by": "apalike",
   "current_citInitial": 1,
   "eqLabelWithNumbers": true,
   "eqNumInitial": 1,
   "hotkeys": {
    "equation": "Ctrl-E",
    "itemize": "Ctrl-I"
   },
   "labels_anchors": false,
   "latex_user_defs": false,
   "report_style_numbering": false,
   "user_envs_cfg": false
  },
  "toc": {
   "base_numbering": 1,
   "nav_menu": {},
   "number_sections": true,
   "sideBar": true,
   "skip_h1_title": false,
   "title_cell": "Table of Contents",
   "title_sidebar": "Contents",
   "toc_cell": false,
   "toc_position": {},
   "toc_section_display": true,
   "toc_window_display": false
  },
  "varInspector": {
   "cols": {
    "lenName": 16,
    "lenType": 16,
    "lenVar": 40
   },
   "kernels_config": {
    "python": {
     "delete_cmd_postfix": "",
     "delete_cmd_prefix": "del ",
     "library": "var_list.py",
     "varRefreshCmd": "print(var_dic_list())"
    },
    "r": {
     "delete_cmd_postfix": ") ",
     "delete_cmd_prefix": "rm(",
     "library": "var_list.r",
     "varRefreshCmd": "cat(var_dic_list()) "
    }
   },
   "types_to_exclude": [
    "module",
    "function",
    "builtin_function_or_method",
    "instance",
    "_Feature"
   ],
   "window_display": false
  }
 },
 "nbformat": 4,
 "nbformat_minor": 4
}
